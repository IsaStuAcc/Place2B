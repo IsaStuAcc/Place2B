{
 "cells": [
  {
   "cell_type": "code",
   "execution_count": 1,
   "metadata": {},
   "outputs": [],
   "source": [
    "import pandas as pd"
   ]
  },
  {
   "cell_type": "code",
   "execution_count": 2,
   "metadata": {},
   "outputs": [],
   "source": [
    "df_geo_daten = pd.read_csv(\"geo_daten_schweiz.csv\", delimiter=\";\")"
   ]
  },
  {
   "cell_type": "code",
   "execution_count": 3,
   "metadata": {},
   "outputs": [
    {
     "data": {
      "text/html": [
       "<div>\n",
       "<style scoped>\n",
       "    .dataframe tbody tr th:only-of-type {\n",
       "        vertical-align: middle;\n",
       "    }\n",
       "\n",
       "    .dataframe tbody tr th {\n",
       "        vertical-align: top;\n",
       "    }\n",
       "\n",
       "    .dataframe thead th {\n",
       "        text-align: right;\n",
       "    }\n",
       "</style>\n",
       "<table border=\"1\" class=\"dataframe\">\n",
       "  <thead>\n",
       "    <tr style=\"text-align: right;\">\n",
       "      <th></th>\n",
       "      <th>Ortschaftsname</th>\n",
       "      <th>PLZ</th>\n",
       "      <th>Zusatzziffer</th>\n",
       "      <th>Gemeindename</th>\n",
       "      <th>BFS-Nr</th>\n",
       "      <th>Kantonskürzel</th>\n",
       "      <th>E</th>\n",
       "      <th>N</th>\n",
       "      <th>Sprache</th>\n",
       "      <th>Validity</th>\n",
       "    </tr>\n",
       "  </thead>\n",
       "  <tbody>\n",
       "    <tr>\n",
       "      <th>0</th>\n",
       "      <td>Aeugst am Albis</td>\n",
       "      <td>8914</td>\n",
       "      <td>0</td>\n",
       "      <td>Aeugst am Albis</td>\n",
       "      <td>1</td>\n",
       "      <td>ZH</td>\n",
       "      <td>8.487911</td>\n",
       "      <td>47.268707</td>\n",
       "      <td>de</td>\n",
       "      <td>2008-07-01</td>\n",
       "    </tr>\n",
       "    <tr>\n",
       "      <th>1</th>\n",
       "      <td>Aeugstertal</td>\n",
       "      <td>8914</td>\n",
       "      <td>2</td>\n",
       "      <td>Aeugst am Albis</td>\n",
       "      <td>1</td>\n",
       "      <td>ZH</td>\n",
       "      <td>8.493639</td>\n",
       "      <td>47.282708</td>\n",
       "      <td>de</td>\n",
       "      <td>2008-07-01</td>\n",
       "    </tr>\n",
       "    <tr>\n",
       "      <th>2</th>\n",
       "      <td>Zwillikon</td>\n",
       "      <td>8909</td>\n",
       "      <td>0</td>\n",
       "      <td>Affoltern am Albis</td>\n",
       "      <td>2</td>\n",
       "      <td>ZH</td>\n",
       "      <td>8.433816</td>\n",
       "      <td>47.289572</td>\n",
       "      <td>de</td>\n",
       "      <td>2008-07-01</td>\n",
       "    </tr>\n",
       "    <tr>\n",
       "      <th>3</th>\n",
       "      <td>Affoltern am Albis</td>\n",
       "      <td>8910</td>\n",
       "      <td>0</td>\n",
       "      <td>Affoltern am Albis</td>\n",
       "      <td>2</td>\n",
       "      <td>ZH</td>\n",
       "      <td>8.454392</td>\n",
       "      <td>47.278791</td>\n",
       "      <td>de</td>\n",
       "      <td>2008-07-01</td>\n",
       "    </tr>\n",
       "    <tr>\n",
       "      <th>4</th>\n",
       "      <td>Bonstetten</td>\n",
       "      <td>8906</td>\n",
       "      <td>0</td>\n",
       "      <td>Bonstetten</td>\n",
       "      <td>3</td>\n",
       "      <td>ZH</td>\n",
       "      <td>8.462510</td>\n",
       "      <td>47.316036</td>\n",
       "      <td>de</td>\n",
       "      <td>2008-07-01</td>\n",
       "    </tr>\n",
       "  </tbody>\n",
       "</table>\n",
       "</div>"
      ],
      "text/plain": [
       "       Ortschaftsname   PLZ  Zusatzziffer        Gemeindename  BFS-Nr  \\\n",
       "0     Aeugst am Albis  8914             0     Aeugst am Albis       1   \n",
       "1         Aeugstertal  8914             2     Aeugst am Albis       1   \n",
       "2           Zwillikon  8909             0  Affoltern am Albis       2   \n",
       "3  Affoltern am Albis  8910             0  Affoltern am Albis       2   \n",
       "4          Bonstetten  8906             0          Bonstetten       3   \n",
       "\n",
       "  Kantonskürzel         E          N Sprache    Validity  \n",
       "0            ZH  8.487911  47.268707      de  2008-07-01  \n",
       "1            ZH  8.493639  47.282708      de  2008-07-01  \n",
       "2            ZH  8.433816  47.289572      de  2008-07-01  \n",
       "3            ZH  8.454392  47.278791      de  2008-07-01  \n",
       "4            ZH  8.462510  47.316036      de  2008-07-01  "
      ]
     },
     "execution_count": 3,
     "metadata": {},
     "output_type": "execute_result"
    }
   ],
   "source": [
    "df_geo_daten.head()"
   ]
  },
  {
   "cell_type": "code",
   "execution_count": 4,
   "metadata": {},
   "outputs": [],
   "source": [
    "from math import sin, cos, sqrt, atan2, radians\n",
    "\n",
    "\n",
    "def luftdistanz(lat1, lon1, lat2, lon2):\n",
    "    # approximate radius of earth in km\n",
    "    R = 6371.0\n",
    "\n",
    "    lat1 = radians(lat1)\n",
    "    lon1 = radians(lon1)\n",
    "    lat2 = radians(lat2)\n",
    "    lon2 = radians(lon2)\n",
    "\n",
    "    dlon = lon2 - lon1\n",
    "    dlat = lat2 - lat1\n",
    "\n",
    "    a = sin(dlat / 2) ** 2 + cos(lat1) * cos(lat2) * sin(dlon / 2) ** 2\n",
    "    c = 2 * atan2(sqrt(a), sqrt(1 - a))\n",
    "\n",
    "    distance = R * c\n",
    "\n",
    "    return distance"
   ]
  },
  {
   "cell_type": "code",
   "execution_count": 29,
   "metadata": {},
   "outputs": [
    {
     "name": "stdout",
     "output_type": "stream",
     "text": [
      "Die Luftdistanz zwischen SG und ZH ist: 62.04070342388148 km\n"
     ]
    }
   ],
   "source": [
    "# Print the Luftdistanz between St. Gallen and Zürich\n",
    "SG_Lat = df_geo_daten[df_geo_daten[\"Gemeindename\"] == \"St. Gallen\"][\"N\"].iloc[0]\n",
    "SG_Long = df_geo_daten[df_geo_daten[\"Gemeindename\"] == \"St. Gallen\"][\"E\"].iloc[0]\n",
    "ZH_Lat = df_geo_daten[df_geo_daten[\"Gemeindename\"] == \"Zürich\"][\"N\"].iloc[0]\n",
    "ZH_Long = df_geo_daten[df_geo_daten[\"Gemeindename\"] == \"Zürich\"][\"E\"].iloc[0]\n",
    "\n",
    "print(\n",
    "    f\"Die Luftdistanz zwischen SG und ZH ist: {luftdistanz(SG_Lat, SG_Long, ZH_Lat, ZH_Long)} km\"\n",
    ")"
   ]
  },
  {
   "cell_type": "code",
   "execution_count": null,
   "metadata": {},
   "outputs": [],
   "source": []
  }
 ],
 "metadata": {
  "kernelspec": {
   "display_name": "base",
   "language": "python",
   "name": "python3"
  },
  "language_info": {
   "codemirror_mode": {
    "name": "ipython",
    "version": 3
   },
   "file_extension": ".py",
   "mimetype": "text/x-python",
   "name": "python",
   "nbconvert_exporter": "python",
   "pygments_lexer": "ipython3",
   "version": "3.11.5"
  }
 },
 "nbformat": 4,
 "nbformat_minor": 2
}
